{
 "cells": [
  {
   "cell_type": "markdown",
   "metadata": {},
   "source": [
    "#  Veri Yükleme"
   ]
  },
  {
   "cell_type": "code",
   "execution_count": 215,
   "metadata": {},
   "outputs": [
    {
     "data": {
      "text/html": [
       "<div>\n",
       "<style scoped>\n",
       "    .dataframe tbody tr th:only-of-type {\n",
       "        vertical-align: middle;\n",
       "    }\n",
       "\n",
       "    .dataframe tbody tr th {\n",
       "        vertical-align: top;\n",
       "    }\n",
       "\n",
       "    .dataframe thead th {\n",
       "        text-align: right;\n",
       "    }\n",
       "</style>\n",
       "<table border=\"1\" class=\"dataframe\">\n",
       "  <thead>\n",
       "    <tr style=\"text-align: right;\">\n",
       "      <th></th>\n",
       "      <th>Pregnancies</th>\n",
       "      <th>Glucose</th>\n",
       "      <th>BloodPressure</th>\n",
       "      <th>SkinThickness</th>\n",
       "      <th>Insulin</th>\n",
       "      <th>BMI</th>\n",
       "      <th>DiabetesPedigreeFunction</th>\n",
       "      <th>Age</th>\n",
       "      <th>Outcome</th>\n",
       "    </tr>\n",
       "  </thead>\n",
       "  <tbody>\n",
       "    <tr>\n",
       "      <th>0</th>\n",
       "      <td>6</td>\n",
       "      <td>148</td>\n",
       "      <td>72</td>\n",
       "      <td>35</td>\n",
       "      <td>0</td>\n",
       "      <td>33.6</td>\n",
       "      <td>0.627</td>\n",
       "      <td>50</td>\n",
       "      <td>1</td>\n",
       "    </tr>\n",
       "    <tr>\n",
       "      <th>1</th>\n",
       "      <td>1</td>\n",
       "      <td>85</td>\n",
       "      <td>66</td>\n",
       "      <td>29</td>\n",
       "      <td>0</td>\n",
       "      <td>26.6</td>\n",
       "      <td>0.351</td>\n",
       "      <td>31</td>\n",
       "      <td>0</td>\n",
       "    </tr>\n",
       "    <tr>\n",
       "      <th>2</th>\n",
       "      <td>8</td>\n",
       "      <td>183</td>\n",
       "      <td>64</td>\n",
       "      <td>0</td>\n",
       "      <td>0</td>\n",
       "      <td>23.3</td>\n",
       "      <td>0.672</td>\n",
       "      <td>32</td>\n",
       "      <td>1</td>\n",
       "    </tr>\n",
       "    <tr>\n",
       "      <th>3</th>\n",
       "      <td>1</td>\n",
       "      <td>89</td>\n",
       "      <td>66</td>\n",
       "      <td>23</td>\n",
       "      <td>94</td>\n",
       "      <td>28.1</td>\n",
       "      <td>0.167</td>\n",
       "      <td>21</td>\n",
       "      <td>0</td>\n",
       "    </tr>\n",
       "    <tr>\n",
       "      <th>4</th>\n",
       "      <td>0</td>\n",
       "      <td>137</td>\n",
       "      <td>40</td>\n",
       "      <td>35</td>\n",
       "      <td>168</td>\n",
       "      <td>43.1</td>\n",
       "      <td>2.288</td>\n",
       "      <td>33</td>\n",
       "      <td>1</td>\n",
       "    </tr>\n",
       "  </tbody>\n",
       "</table>\n",
       "</div>"
      ],
      "text/plain": [
       "   Pregnancies  Glucose  BloodPressure  SkinThickness  Insulin   BMI  \\\n",
       "0            6      148             72             35        0  33.6   \n",
       "1            1       85             66             29        0  26.6   \n",
       "2            8      183             64              0        0  23.3   \n",
       "3            1       89             66             23       94  28.1   \n",
       "4            0      137             40             35      168  43.1   \n",
       "\n",
       "   DiabetesPedigreeFunction  Age  Outcome  \n",
       "0                     0.627   50        1  \n",
       "1                     0.351   31        0  \n",
       "2                     0.672   32        1  \n",
       "3                     0.167   21        0  \n",
       "4                     2.288   33        1  "
      ]
     },
     "execution_count": 215,
     "metadata": {},
     "output_type": "execute_result"
    }
   ],
   "source": [
    "import numpy as np\n",
    "import pandas as pd\n",
    "import matplotlib.pyplot as plt\n",
    "\n",
    "df = pd.read_csv('C:/Users/Havva Nur Ezginci/Desktop/BitirmeProjesi/Dataset/Diyabet/diabetes.csv')\n",
    "df.head()"
   ]
  },
  {
   "cell_type": "code",
   "execution_count": 216,
   "metadata": {},
   "outputs": [
    {
     "name": "stdout",
     "output_type": "stream",
     "text": [
      "Outcome\n",
      "0    500\n",
      "1    268\n",
      "dtype: int64\n"
     ]
    }
   ],
   "source": [
    "print(df.groupby('Outcome').size())"
   ]
  },
  {
   "cell_type": "raw",
   "metadata": {},
   "source": [
    "\"Outcome\" tahmin edeceğimiz özelliktir, 0 diyabet yok, 1 diyabet anlamına gelir. Bu 768 veri noktasından 500'ü 0 ve 268'i 1 olarak etiketlenmiştir:"
   ]
  },
  {
   "cell_type": "code",
   "execution_count": 217,
   "metadata": {},
   "outputs": [
    {
     "name": "stderr",
     "output_type": "stream",
     "text": [
      "C:\\Kisisel_Dosyalarim\\anaconda3\\envs\\tf-gpu\\lib\\site-packages\\seaborn\\_decorators.py:36: FutureWarning: Pass the following variable as a keyword arg: x. From version 0.12, the only valid positional argument will be `data`, and passing other arguments without an explicit keyword will result in an error or misinterpretation.\n",
      "  warnings.warn(\n"
     ]
    },
    {
     "data": {
      "text/plain": [
       "<AxesSubplot:xlabel='Outcome', ylabel='count'>"
      ]
     },
     "execution_count": 217,
     "metadata": {},
     "output_type": "execute_result"
    },
    {
     "data": {
      "image/png": "[encoded data removed]",
      "text/plain": [
       "<Figure size 432x288 with 1 Axes>"
      ]
     },
     "metadata": {
      "needs_background": "light"
     },
     "output_type": "display_data"
    }
   ],
   "source": [
    "import seaborn as sns\n",
    "sns.countplot(df['Outcome'],label=\"Count\")"
   ]
  },
  {
   "cell_type": "code",
   "execution_count": 218,
   "metadata": {},
   "outputs": [
    {
     "name": "stdout",
     "output_type": "stream",
     "text": [
      "<class 'pandas.core.frame.DataFrame'>\n",
      "RangeIndex: 768 entries, 0 to 767\n",
      "Data columns (total 9 columns):\n",
      " #   Column                    Non-Null Count  Dtype  \n",
      "---  ------                    --------------  -----  \n",
      " 0   Pregnancies               768 non-null    int64  \n",
      " 1   Glucose                   768 non-null    int64  \n",
      " 2   BloodPressure             768 non-null    int64  \n",
      " 3   SkinThickness             768 non-null    int64  \n",
      " 4   Insulin                   768 non-null    int64  \n",
      " 5   BMI                       768 non-null    float64\n",
      " 6   DiabetesPedigreeFunction  768 non-null    float64\n",
      " 7   Age                       768 non-null    int64  \n",
      " 8   Outcome                   768 non-null    int64  \n",
      "dtypes: float64(2), int64(7)\n",
      "memory usage: 54.1 KB\n"
     ]
    }
   ],
   "source": [
    "df.info()"
   ]
  },
  {
   "cell_type": "code",
   "execution_count": 219,
   "metadata": {},
   "outputs": [
    {
     "data": {
      "text/plain": [
       "Pregnancies                 0\n",
       "Glucose                     0\n",
       "BloodPressure               0\n",
       "SkinThickness               0\n",
       "Insulin                     0\n",
       "BMI                         0\n",
       "DiabetesPedigreeFunction    0\n",
       "Age                         0\n",
       "Outcome                     0\n",
       "dtype: int64"
      ]
     },
     "execution_count": 219,
     "metadata": {},
     "output_type": "execute_result"
    }
   ],
   "source": [
    "df.isnull().sum()"
   ]
  },
  {
   "cell_type": "code",
   "execution_count": 220,
   "metadata": {},
   "outputs": [
    {
     "data": {
      "text/plain": [
       "Pregnancies                 111\n",
       "Glucose                       5\n",
       "BloodPressure                35\n",
       "SkinThickness               227\n",
       "Insulin                     374\n",
       "BMI                          11\n",
       "DiabetesPedigreeFunction      0\n",
       "Age                           0\n",
       "Outcome                     500\n",
       "dtype: int64"
      ]
     },
     "execution_count": 220,
     "metadata": {},
     "output_type": "execute_result"
    }
   ],
   "source": [
    "df.eq(0).sum()"
   ]
  },
  {
   "cell_type": "code",
   "execution_count": 221,
   "metadata": {},
   "outputs": [
    {
     "data": {
      "text/plain": [
       "(768, 9)"
      ]
     },
     "execution_count": 221,
     "metadata": {},
     "output_type": "execute_result"
    }
   ],
   "source": [
    "df.shape"
   ]
  },
  {
   "cell_type": "markdown",
   "metadata": {},
   "source": [
    "#  Eksik değerlerin doldurulması\n",
    "ortalama alıp eksik sayısal değerleri tamamlama"
   ]
  },
  {
   "cell_type": "code",
   "execution_count": 222,
   "metadata": {},
   "outputs": [],
   "source": [
    "# 0 olan değereler Nan atadık\n",
    "df[['Glucose','BloodPressure','SkinThickness','Insulin','BMI','DiabetesPedigreeFunction']] = df[['Glucose','BloodPressure','SkinThickness','Insulin','BMI','DiabetesPedigreeFunction']].replace(0,np.NaN)"
   ]
  },
  {
   "cell_type": "code",
   "execution_count": 223,
   "metadata": {},
   "outputs": [
    {
     "data": {
      "text/html": [
       "<div>\n",
       "<style scoped>\n",
       "    .dataframe tbody tr th:only-of-type {\n",
       "        vertical-align: middle;\n",
       "    }\n",
       "\n",
       "    .dataframe tbody tr th {\n",
       "        vertical-align: top;\n",
       "    }\n",
       "\n",
       "    .dataframe thead th {\n",
       "        text-align: right;\n",
       "    }\n",
       "</style>\n",
       "<table border=\"1\" class=\"dataframe\">\n",
       "  <thead>\n",
       "    <tr style=\"text-align: right;\">\n",
       "      <th></th>\n",
       "      <th>Pregnancies</th>\n",
       "      <th>Glucose</th>\n",
       "      <th>BloodPressure</th>\n",
       "      <th>SkinThickness</th>\n",
       "      <th>Insulin</th>\n",
       "      <th>BMI</th>\n",
       "      <th>DiabetesPedigreeFunction</th>\n",
       "      <th>Age</th>\n",
       "      <th>Outcome</th>\n",
       "    </tr>\n",
       "  </thead>\n",
       "  <tbody>\n",
       "    <tr>\n",
       "      <th>0</th>\n",
       "      <td>6</td>\n",
       "      <td>148.0</td>\n",
       "      <td>72.0</td>\n",
       "      <td>35.00000</td>\n",
       "      <td>155.548223</td>\n",
       "      <td>33.6</td>\n",
       "      <td>0.627</td>\n",
       "      <td>50</td>\n",
       "      <td>1</td>\n",
       "    </tr>\n",
       "    <tr>\n",
       "      <th>1</th>\n",
       "      <td>1</td>\n",
       "      <td>85.0</td>\n",
       "      <td>66.0</td>\n",
       "      <td>29.00000</td>\n",
       "      <td>155.548223</td>\n",
       "      <td>26.6</td>\n",
       "      <td>0.351</td>\n",
       "      <td>31</td>\n",
       "      <td>0</td>\n",
       "    </tr>\n",
       "    <tr>\n",
       "      <th>2</th>\n",
       "      <td>8</td>\n",
       "      <td>183.0</td>\n",
       "      <td>64.0</td>\n",
       "      <td>29.15342</td>\n",
       "      <td>155.548223</td>\n",
       "      <td>23.3</td>\n",
       "      <td>0.672</td>\n",
       "      <td>32</td>\n",
       "      <td>1</td>\n",
       "    </tr>\n",
       "    <tr>\n",
       "      <th>3</th>\n",
       "      <td>1</td>\n",
       "      <td>89.0</td>\n",
       "      <td>66.0</td>\n",
       "      <td>23.00000</td>\n",
       "      <td>94.000000</td>\n",
       "      <td>28.1</td>\n",
       "      <td>0.167</td>\n",
       "      <td>21</td>\n",
       "      <td>0</td>\n",
       "    </tr>\n",
       "    <tr>\n",
       "      <th>4</th>\n",
       "      <td>0</td>\n",
       "      <td>137.0</td>\n",
       "      <td>40.0</td>\n",
       "      <td>35.00000</td>\n",
       "      <td>168.000000</td>\n",
       "      <td>43.1</td>\n",
       "      <td>2.288</td>\n",
       "      <td>33</td>\n",
       "      <td>1</td>\n",
       "    </tr>\n",
       "    <tr>\n",
       "      <th>...</th>\n",
       "      <td>...</td>\n",
       "      <td>...</td>\n",
       "      <td>...</td>\n",
       "      <td>...</td>\n",
       "      <td>...</td>\n",
       "      <td>...</td>\n",
       "      <td>...</td>\n",
       "      <td>...</td>\n",
       "      <td>...</td>\n",
       "    </tr>\n",
       "    <tr>\n",
       "      <th>763</th>\n",
       "      <td>10</td>\n",
       "      <td>101.0</td>\n",
       "      <td>76.0</td>\n",
       "      <td>48.00000</td>\n",
       "      <td>180.000000</td>\n",
       "      <td>32.9</td>\n",
       "      <td>0.171</td>\n",
       "      <td>63</td>\n",
       "      <td>0</td>\n",
       "    </tr>\n",
       "    <tr>\n",
       "      <th>764</th>\n",
       "      <td>2</td>\n",
       "      <td>122.0</td>\n",
       "      <td>70.0</td>\n",
       "      <td>27.00000</td>\n",
       "      <td>155.548223</td>\n",
       "      <td>36.8</td>\n",
       "      <td>0.340</td>\n",
       "      <td>27</td>\n",
       "      <td>0</td>\n",
       "    </tr>\n",
       "    <tr>\n",
       "      <th>765</th>\n",
       "      <td>5</td>\n",
       "      <td>121.0</td>\n",
       "      <td>72.0</td>\n",
       "      <td>23.00000</td>\n",
       "      <td>112.000000</td>\n",
       "      <td>26.2</td>\n",
       "      <td>0.245</td>\n",
       "      <td>30</td>\n",
       "      <td>0</td>\n",
       "    </tr>\n",
       "    <tr>\n",
       "      <th>766</th>\n",
       "      <td>1</td>\n",
       "      <td>126.0</td>\n",
       "      <td>60.0</td>\n",
       "      <td>29.15342</td>\n",
       "      <td>155.548223</td>\n",
       "      <td>30.1</td>\n",
       "      <td>0.349</td>\n",
       "      <td>47</td>\n",
       "      <td>1</td>\n",
       "    </tr>\n",
       "    <tr>\n",
       "      <th>767</th>\n",
       "      <td>1</td>\n",
       "      <td>93.0</td>\n",
       "      <td>70.0</td>\n",
       "      <td>31.00000</td>\n",
       "      <td>155.548223</td>\n",
       "      <td>30.4</td>\n",
       "      <td>0.315</td>\n",
       "      <td>23</td>\n",
       "      <td>0</td>\n",
       "    </tr>\n",
       "  </tbody>\n",
       "</table>\n",
       "<p>768 rows × 9 columns</p>\n",
       "</div>"
      ],
      "text/plain": [
       "     Pregnancies  Glucose  BloodPressure  SkinThickness     Insulin   BMI  \\\n",
       "0              6    148.0           72.0       35.00000  155.548223  33.6   \n",
       "1              1     85.0           66.0       29.00000  155.548223  26.6   \n",
       "2              8    183.0           64.0       29.15342  155.548223  23.3   \n",
       "3              1     89.0           66.0       23.00000   94.000000  28.1   \n",
       "4              0    137.0           40.0       35.00000  168.000000  43.1   \n",
       "..           ...      ...            ...            ...         ...   ...   \n",
       "763           10    101.0           76.0       48.00000  180.000000  32.9   \n",
       "764            2    122.0           70.0       27.00000  155.548223  36.8   \n",
       "765            5    121.0           72.0       23.00000  112.000000  26.2   \n",
       "766            1    126.0           60.0       29.15342  155.548223  30.1   \n",
       "767            1     93.0           70.0       31.00000  155.548223  30.4   \n",
       "\n",
       "     DiabetesPedigreeFunction  Age  Outcome  \n",
       "0                       0.627   50        1  \n",
       "1                       0.351   31        0  \n",
       "2                       0.672   32        1  \n",
       "3                       0.167   21        0  \n",
       "4                       2.288   33        1  \n",
       "..                        ...  ...      ...  \n",
       "763                     0.171   63        0  \n",
       "764                     0.340   27        0  \n",
       "765                     0.245   30        0  \n",
       "766                     0.349   47        1  \n",
       "767                     0.315   23        0  \n",
       "\n",
       "[768 rows x 9 columns]"
      ]
     },
     "execution_count": 223,
     "metadata": {},
     "output_type": "execute_result"
    }
   ],
   "source": [
    "from sklearn.impute import SimpleImputer\n",
    "\n",
    "imputer = SimpleImputer(missing_values = np.nan, strategy=\"mean\")\n",
    "\n",
    "eksik_veriler = df.iloc[:,1:7].values\n",
    "imputer = imputer.fit(eksik_veriler[:]) # fit eğitim için sayısal kolonlar üzerinde öğrenme yapıcak\n",
    "# simple imputer daki stratejimiz ortalama değerdir  öğrenilen değerlerin dönüştürülmesi için transform fonksiyonunu kullanıcaz\n",
    "\n",
    "eksik_veriler[:] = imputer.transform(eksik_veriler[:]) #nan değerler değişicek\n",
    "sonuc2= pd.DataFrame(data=eksik_veriler,index=range(768),columns=['Glucose','BloodPressure','SkinThickness','Insulin','BMI','DiabetesPedigreeFunction'])\n",
    "\n",
    "df[['Glucose','BloodPressure','SkinThickness','Insulin','BMI','DiabetesPedigreeFunction']] = sonuc2\n",
    "df"
   ]
  },
  {
   "cell_type": "code",
   "execution_count": 224,
   "metadata": {},
   "outputs": [
    {
     "data": {
      "text/plain": [
       "Pregnancies                 0\n",
       "Glucose                     0\n",
       "BloodPressure               0\n",
       "SkinThickness               0\n",
       "Insulin                     0\n",
       "BMI                         0\n",
       "DiabetesPedigreeFunction    0\n",
       "Age                         0\n",
       "Outcome                     0\n",
       "dtype: int64"
      ]
     },
     "execution_count": 224,
     "metadata": {},
     "output_type": "execute_result"
    }
   ],
   "source": [
    "df.isnull().sum()"
   ]
  },
  {
   "cell_type": "code",
   "execution_count": 225,
   "metadata": {},
   "outputs": [
    {
     "data": {
      "text/plain": [
       "Pregnancies                 111\n",
       "Glucose                       0\n",
       "BloodPressure                 0\n",
       "SkinThickness                 0\n",
       "Insulin                       0\n",
       "BMI                           0\n",
       "DiabetesPedigreeFunction      0\n",
       "Age                           0\n",
       "Outcome                     500\n",
       "dtype: int64"
      ]
     },
     "execution_count": 225,
     "metadata": {},
     "output_type": "execute_result"
    }
   ],
   "source": [
    "df.eq(0).sum()"
   ]
  },
  {
   "cell_type": "code",
   "execution_count": 226,
   "metadata": {},
   "outputs": [
    {
     "data": {
      "text/html": [
       "<div>\n",
       "<style scoped>\n",
       "    .dataframe tbody tr th:only-of-type {\n",
       "        vertical-align: middle;\n",
       "    }\n",
       "\n",
       "    .dataframe tbody tr th {\n",
       "        vertical-align: top;\n",
       "    }\n",
       "\n",
       "    .dataframe thead th {\n",
       "        text-align: right;\n",
       "    }\n",
       "</style>\n",
       "<table border=\"1\" class=\"dataframe\">\n",
       "  <thead>\n",
       "    <tr style=\"text-align: right;\">\n",
       "      <th></th>\n",
       "      <th>Pregnancies</th>\n",
       "      <th>Glucose</th>\n",
       "      <th>BloodPressure</th>\n",
       "      <th>SkinThickness</th>\n",
       "      <th>Insulin</th>\n",
       "      <th>BMI</th>\n",
       "      <th>DiabetesPedigreeFunction</th>\n",
       "      <th>Age</th>\n",
       "    </tr>\n",
       "  </thead>\n",
       "  <tbody>\n",
       "    <tr>\n",
       "      <th>0</th>\n",
       "      <td>6</td>\n",
       "      <td>148.0</td>\n",
       "      <td>72.0</td>\n",
       "      <td>35.0</td>\n",
       "      <td>155.548223</td>\n",
       "      <td>33.6</td>\n",
       "      <td>0.627</td>\n",
       "      <td>50</td>\n",
       "    </tr>\n",
       "    <tr>\n",
       "      <th>1</th>\n",
       "      <td>1</td>\n",
       "      <td>85.0</td>\n",
       "      <td>66.0</td>\n",
       "      <td>29.0</td>\n",
       "      <td>155.548223</td>\n",
       "      <td>26.6</td>\n",
       "      <td>0.351</td>\n",
       "      <td>31</td>\n",
       "    </tr>\n",
       "  </tbody>\n",
       "</table>\n",
       "</div>"
      ],
      "text/plain": [
       "   Pregnancies  Glucose  BloodPressure  SkinThickness     Insulin   BMI  \\\n",
       "0            6    148.0           72.0           35.0  155.548223  33.6   \n",
       "1            1     85.0           66.0           29.0  155.548223  26.6   \n",
       "\n",
       "   DiabetesPedigreeFunction  Age  \n",
       "0                     0.627   50  \n",
       "1                     0.351   31  "
      ]
     },
     "execution_count": 226,
     "metadata": {},
     "output_type": "execute_result"
    }
   ],
   "source": [
    "X = df.iloc[:,0:8]\n",
    "Y = df.iloc[:,8:]\n",
    "X.head(2)"
   ]
  },
  {
   "cell_type": "code",
   "execution_count": 227,
   "metadata": {},
   "outputs": [
    {
     "data": {
      "text/plain": [
       "array([1, 0], dtype=int64)"
      ]
     },
     "execution_count": 227,
     "metadata": {},
     "output_type": "execute_result"
    }
   ],
   "source": [
    "Y.Outcome.unique()"
   ]
  },
  {
   "cell_type": "code",
   "execution_count": 228,
   "metadata": {},
   "outputs": [
    {
     "data": {
      "text/plain": [
       "array([[ 0.63994726,  0.86510807, -0.03351824, ...,  0.16629174,\n",
       "         0.46849198,  1.4259954 ],\n",
       "       [-0.84488505, -1.20616153, -0.52985903, ..., -0.85253118,\n",
       "        -0.36506078, -0.19067191],\n",
       "       [ 1.23388019,  2.0158134 , -0.69530596, ..., -1.33283341,\n",
       "         0.60439732, -0.10558415],\n",
       "       ...,\n",
       "       [ 0.3429808 , -0.0225789 , -0.03351824, ..., -0.91074963,\n",
       "        -0.68519336, -0.27575966],\n",
       "       [-0.84488505,  0.14180757, -1.02619983, ..., -0.34311972,\n",
       "        -0.37110101,  1.17073215],\n",
       "       [-0.84488505, -0.94314317, -0.19896517, ..., -0.29945588,\n",
       "        -0.47378505, -0.87137393]])"
      ]
     },
     "execution_count": 228,
     "metadata": {},
     "output_type": "execute_result"
    }
   ],
   "source": [
    "from sklearn.preprocessing import StandardScaler\n",
    "scaler = StandardScaler()\n",
    "scaler.fit(X)\n",
    "# uzak aralıkta olan değerler birbirlerine gore olcekledik yakın hale gelmiş oldu\n",
    "X = scaler.transform(X)\n",
    "X"
   ]
  },
  {
   "cell_type": "markdown",
   "metadata": {},
   "source": [
    "# Model Oluşturma"
   ]
  },
  {
   "cell_type": "code",
   "execution_count": 229,
   "metadata": {},
   "outputs": [],
   "source": [
    "from sklearn.linear_model import Perceptron,LogisticRegression\n",
    "from sklearn.neural_network import MLPClassifier\n",
    "from sklearn.tree import DecisionTreeClassifier\n",
    "from sklearn.neighbors import KNeighborsClassifier\n",
    "from sklearn.naive_bayes import GaussianNB\n",
    "from sklearn.svm import SVC\n",
    "from sklearn.ensemble import RandomForestClassifier"
   ]
  },
  {
   "cell_type": "code",
   "execution_count": 241,
   "metadata": {},
   "outputs": [],
   "source": [
    "def get_models():\n",
    "    models = list()\n",
    "    models.append(LogisticRegression(random_state=5))\n",
    "    models.append(Perceptron(max_iter=60,eta0=0.1,random_state=42))\n",
    "    models.append(MLPClassifier(hidden_layer_sizes=(6,6,6,6), max_iter=10000))\n",
    "    models.append(DecisionTreeClassifier(max_depth=6,random_state=1))\n",
    "    models.append(KNeighborsClassifier(n_neighbors=8,metric='minkowski'))# default ; n_neighbors= 5,metric = mesafe(minkowski) kullanır.\n",
    "    models.append(SVC(kernel='linear')) # kernel{‘linear’, ‘poly’, ‘rbf’, ‘sigmoid’, ‘precomputed’}, default=’rbf’\n",
    "    models.append(GaussianNB())\n",
    "    models.append(RandomForestClassifier(n_estimators = 12,random_state=0))\n",
    "    return models"
   ]
  },
  {
   "cell_type": "markdown",
   "metadata": {},
   "source": [
    "# Tahmin Etme ve Değerlendirme"
   ]
  },
  {
   "cell_type": "code",
   "execution_count": 242,
   "metadata": {},
   "outputs": [],
   "source": [
    "from sklearn.metrics import accuracy_score\n",
    "from sklearn.metrics import classification_report,confusion_matrix\n",
    "from sklearn.model_selection import cross_val_score\n",
    "from numpy import mean\n",
    "\n",
    "def degerlendirme(model,X,y):\n",
    "    predict = model.predict(X)\n",
    "    print(confusion_matrix(y,predict))\n",
    "    print(classification_report(y,predict))\n",
    "    \n",
    "\n",
    "def evaluate_model(cv,model): # k fold validation \n",
    "    scores = cross_val_score(model, X,Y, scoring='accuracy', cv=cv, n_jobs=-1)\n",
    "    return mean(scores), scores.min(), scores.max()"
   ]
  },
  {
   "cell_type": "markdown",
   "metadata": {},
   "source": [
    "# Eğitim ve Test Veri Kümelerinin Oluşturulması ve Modellerin Eğitilmesi¶"
   ]
  },
  {
   "cell_type": "code",
   "execution_count": 243,
   "metadata": {},
   "outputs": [],
   "source": [
    "from sklearn.model_selection import KFold\n",
    "from sklearn.model_selection import train_test_split"
   ]
  },
  {
   "cell_type": "code",
   "execution_count": 244,
   "metadata": {},
   "outputs": [
    {
     "name": "stdout",
     "output_type": "stream",
     "text": [
      "X Training Data : (614, 8)\n",
      "X Testing Data : (154, 8)\n",
      "Y Training Data : (614, 1)\n",
      "Y Testing Data : (154, 1)\n"
     ]
    }
   ],
   "source": [
    "def bol(testSize=0.20):\n",
    "    X_train, X_test, y_train, y_test = train_test_split(X,Y,test_size=testSize,random_state=0)\n",
    "    print(\"X Training Data :\",X_train.shape)\n",
    "    print(\"X Testing Data :\",X_test.shape)\n",
    "    print(\"Y Training Data :\",y_train.shape)\n",
    "    print(\"Y Testing Data :\",y_test.shape)\n",
    "    return X_train, X_test, y_train, y_test\n",
    "\n",
    "X_train, X_test, y_train, y_test= bol()"
   ]
  },
  {
   "cell_type": "code",
   "execution_count": 246,
   "metadata": {},
   "outputs": [
    {
     "name": "stdout",
     "output_type": "stream",
     "text": [
      ">LogisticRegression skor:\n",
      "        eğitim: 0.767\n",
      "        test: 0.812\n",
      ">Perceptron skor:\n",
      "        eğitim: 0.721\n",
      "        test: 0.799\n",
      ">MLPClassifier skor:\n",
      "        eğitim: 0.824\n",
      "        test: 0.779\n",
      ">DecisionTreeClassifier skor:\n",
      "        eğitim: 0.855\n",
      "        test: 0.786\n",
      ">KNeighborsClassifier skor:\n",
      "        eğitim: 0.785\n",
      "        test: 0.805\n",
      ">SVC skor:\n",
      "        eğitim: 0.762\n",
      "        test: 0.799\n",
      ">GaussianNB skor:\n",
      "        eğitim: 0.749\n",
      "        test: 0.786\n",
      ">RandomForestClassifier skor:\n",
      "        eğitim: 0.989\n",
      "        test: 0.792\n",
      "\n",
      "En iyi skora sahip modelin (LogisticRegression) konfüzyon matrisi: \n",
      "\n",
      "Test verileri:\n",
      "\n",
      "[[97 10]\n",
      " [19 28]]\n",
      "              precision    recall  f1-score   support\n",
      "\n",
      "           0       0.84      0.91      0.87       107\n",
      "           1       0.74      0.60      0.66        47\n",
      "\n",
      "    accuracy                           0.81       154\n",
      "   macro avg       0.79      0.75      0.76       154\n",
      "weighted avg       0.81      0.81      0.81       154\n",
      "\n",
      "\n",
      "Eğitim verileri:\n",
      "\n",
      "[[345  48]\n",
      " [ 95 126]]\n",
      "              precision    recall  f1-score   support\n",
      "\n",
      "           0       0.78      0.88      0.83       393\n",
      "           1       0.72      0.57      0.64       221\n",
      "\n",
      "    accuracy                           0.77       614\n",
      "   macro avg       0.75      0.72      0.73       614\n",
      "weighted avg       0.76      0.77      0.76       614\n",
      "\n"
     ]
    }
   ],
   "source": [
    "# Verilerin belirli bir oranda test ve train olarak bolunmesi ile model eğitimi (default : %80-%20 kullandım)\n",
    "models = get_models()\n",
    "best_model_score = -1\n",
    "trained_modelers = []\n",
    "for model in models:\n",
    "    model.fit(X_train,np.ravel(y_train))\n",
    "    trained_modelers.append(model)\n",
    "    print(\">%s skor:\"%(type(model).__name__))\n",
    "    \n",
    "    predictions_train = model.predict(X_train)\n",
    "    print(\"        eğitim:\",round(accuracy_score(predictions_train, np.ravel(y_train)),3))\n",
    "    \n",
    "    y_pred = model.predict(X_test)\n",
    "    acc_score = accuracy_score(y_pred, np.ravel(y_test))\n",
    "    print(\"        test:\",round(acc_score,3))\n",
    "    \n",
    "    if(acc_score > best_model_score):\n",
    "        best_model_score = acc_score\n",
    "        best_model = model  \n",
    "        \n",
    "print(\"\\nEn iyi skora sahip modelin (%s) konfüzyon matrisi: \"%(type(best_model).__name__))\n",
    "print(\"\\nTest verileri:\\n\")\n",
    "degerlendirme(best_model,X_test,y_test)\n",
    "print(\"\\nEğitim verileri:\\n\")\n",
    "degerlendirme(best_model,X_train,y_train)"
   ]
  },
  {
   "cell_type": "code",
   "execution_count": 247,
   "metadata": {},
   "outputs": [
    {
     "name": "stdout",
     "output_type": "stream",
     "text": [
      "Karar ağacı özelliklerin önem yüzdelikleri:\n",
      "[0.01147274 0.37701637 0.07524925 0.06196233 0.06910943 0.19682277\n",
      " 0.05909082 0.1492763 ]\n"
     ]
    }
   ],
   "source": [
    "print(\"Karar ağacı özelliklerin önem yüzdelikleri:\\n{}\".format(trained_modelers[3].feature_importances_))"
   ]
  },
  {
   "cell_type": "raw",
   "metadata": {},
   "source": [
    "Ağacın verdiği karar için her bir özelliğin ne kadar önemli olduğunu değerlendirir. Her özellik için 0 ile 1 arasında bir sayıdır; 0=>\"hiç kullanılmamış\" ve 1 => \"hedefi mükemmel şekilde tahmin ediyor\" anlamına gelir. "
   ]
  },
  {
   "cell_type": "code",
   "execution_count": 248,
   "metadata": {},
   "outputs": [
    {
     "data": {
      "image/png": "[encoded data removed]",
      "text/plain": [
       "<Figure size 576x432 with 1 Axes>"
      ]
     },
     "metadata": {
      "needs_background": "light"
     },
     "output_type": "display_data"
    }
   ],
   "source": [
    "def plot_feature_importances_diabetes(model):\n",
    "    plt.figure(figsize=(8,6))\n",
    "    n_features = 8\n",
    "    plt.barh(range(n_features), model.feature_importances_, align='center')\n",
    "    plt.yticks(np.arange(n_features),[x for i, x in enumerate(df.columns) if i!=8])\n",
    "    plt.xlabel(\"\")\n",
    "    plt.ylabel(\"Feature\")\n",
    "    plt.ylim(-1, n_features)\n",
    "plot_feature_importances_diabetes(trained_modelers[3])\n",
    "plt.savefig('feature_importance')"
   ]
  },
  {
   "cell_type": "code",
   "execution_count": null,
   "metadata": {},
   "outputs": [],
   "source": []
  },
  {
   "cell_type": "markdown",
   "metadata": {},
   "source": [
    "#  K FOLD CROSS VALİDATİON "
   ]
  },
  {
   "cell_type": "code",
   "execution_count": 249,
   "metadata": {},
   "outputs": [
    {
     "name": "stdout",
     "output_type": "stream",
     "text": [
      ">>>>>>>>> 5 fold cross validation:\n",
      "\n",
      ">LogisticRegression: accuracy=0.771 (0.752,0.812)\n",
      ">Perceptron: accuracy=0.672 (0.623,0.706)\n",
      ">MLPClassifier: accuracy=0.756 (0.712,0.784)\n",
      ">DecisionTreeClassifier: accuracy=0.725 (0.699,0.786)\n",
      ">KNeighborsClassifier: accuracy=0.753 (0.708,0.805)\n",
      ">SVC: accuracy=0.762 (0.739,0.799)\n",
      ">GaussianNB: accuracy=0.747 (0.708,0.786)\n",
      ">RandomForestClassifier: accuracy=0.750 (0.712,0.779)\n",
      "\n",
      "\n",
      ">>>>>>>>> 10 fold cross validation:\n",
      "\n",
      ">LogisticRegression: accuracy=0.771 (0.701,0.857)\n",
      ">Perceptron: accuracy=0.686 (0.584,0.816)\n",
      ">MLPClassifier: accuracy=0.751 (0.675,0.818)\n",
      ">DecisionTreeClassifier: accuracy=0.747 (0.675,0.818)\n",
      ">KNeighborsClassifier: accuracy=0.747 (0.675,0.831)\n",
      ">SVC: accuracy=0.763 (0.688,0.857)\n",
      ">GaussianNB: accuracy=0.743 (0.658,0.831)\n",
      ">RandomForestClassifier: accuracy=0.750 (0.649,0.844)\n",
      "\n",
      "\n",
      ">>>>>>>>> 15 fold cross validation:\n",
      "\n",
      ">LogisticRegression: accuracy=0.769 (0.686,0.885)\n",
      ">Perceptron: accuracy=0.674 (0.510,0.765)\n",
      ">MLPClassifier: accuracy=0.730 (0.549,0.827)\n",
      ">DecisionTreeClassifier: accuracy=0.754 (0.647,0.846)\n",
      ">KNeighborsClassifier: accuracy=0.744 (0.647,0.846)\n",
      ">SVC: accuracy=0.762 (0.647,0.865)\n",
      ">GaussianNB: accuracy=0.743 (0.588,0.865)\n",
      ">RandomForestClassifier: accuracy=0.754 (0.627,0.827)\n",
      "\n",
      "\n",
      ">>>>>>>>> 20 fold cross validation:\n",
      "\n",
      ">LogisticRegression: accuracy=0.772 (0.658,0.949)\n",
      ">Perceptron: accuracy=0.703 (0.590,0.897)\n",
      ">MLPClassifier: accuracy=0.739 (0.632,0.846)\n",
      ">DecisionTreeClassifier: accuracy=0.751 (0.658,0.872)\n",
      ">KNeighborsClassifier: accuracy=0.750 (0.684,0.872)\n",
      ">SVC: accuracy=0.763 (0.632,0.923)\n",
      ">GaussianNB: accuracy=0.745 (0.605,0.923)\n",
      ">RandomForestClassifier: accuracy=0.731 (0.579,0.846)\n",
      "\n",
      "\n",
      ">>>>>>>>> 25 fold cross validation:\n",
      "\n",
      ">LogisticRegression: accuracy=0.769 (0.613,0.935)\n",
      ">Perceptron: accuracy=0.707 (0.516,0.871)\n",
      ">MLPClassifier: accuracy=0.765 (0.567,0.903)\n",
      ">DecisionTreeClassifier: accuracy=0.742 (0.467,0.935)\n",
      ">KNeighborsClassifier: accuracy=0.754 (0.567,0.903)\n",
      ">SVC: accuracy=0.765 (0.613,0.935)\n",
      ">GaussianNB: accuracy=0.745 (0.600,0.903)\n",
      ">RandomForestClassifier: accuracy=0.746 (0.567,0.871)\n",
      "\n",
      "\n",
      ">>>>>>>>> 30 fold cross validation:\n",
      "\n",
      ">LogisticRegression: accuracy=0.764 (0.615,0.962)\n",
      ">Perceptron: accuracy=0.723 (0.423,0.923)\n",
      ">MLPClassifier: accuracy=0.748 (0.560,0.923)\n",
      ">DecisionTreeClassifier: accuracy=0.754 (0.520,0.923)\n",
      ">KNeighborsClassifier: accuracy=0.752 (0.520,0.885)\n",
      ">SVC: accuracy=0.762 (0.615,0.962)\n",
      ">GaussianNB: accuracy=0.746 (0.600,0.923)\n",
      ">RandomForestClassifier: accuracy=0.737 (0.440,0.885)\n",
      "\n",
      "\n"
     ]
    }
   ],
   "source": [
    "folds = range(5,31,5)\n",
    "models = get_models()\n",
    "\n",
    "for k in folds:\n",
    "    cv = KFold(n_splits=k,random_state = 0, shuffle=True)\n",
    "    print(\">>>>>>>>> %d fold cross validation:\"%(k))\n",
    "    print()\n",
    "    for model in models:\n",
    "        k_mean, k_min, k_max = evaluate_model(cv,model)\n",
    "        # report performance\n",
    "        print('>%s: accuracy=%.3f (%.3f,%.3f)' % (type(model).__name__, k_mean, k_min, k_max))\n",
    "    print(\"\\n\")\n",
    "    "
   ]
  },
  {
   "cell_type": "code",
   "execution_count": null,
   "metadata": {},
   "outputs": [],
   "source": []
  },
  {
   "cell_type": "code",
   "execution_count": null,
   "metadata": {},
   "outputs": [],
   "source": []
  },
  {
   "cell_type": "code",
   "execution_count": null,
   "metadata": {},
   "outputs": [],
   "source": []
  },
  {
   "cell_type": "code",
   "execution_count": null,
   "metadata": {},
   "outputs": [],
   "source": []
  }
 ],
 "metadata": {
  "kernelspec": {
   "display_name": "Python 3 (ipykernel)",
   "language": "python",
   "name": "python3"
  },
  "language_info": {
   "codemirror_mode": {
    "name": "ipython",
    "version": 3
   },
   "file_extension": ".py",
   "mimetype": "text/x-python",
   "name": "python",
   "nbconvert_exporter": "python",
   "pygments_lexer": "ipython3",
   "version": "3.9.12"
  }
 },
 "nbformat": 4,
 "nbformat_minor": 4
}
